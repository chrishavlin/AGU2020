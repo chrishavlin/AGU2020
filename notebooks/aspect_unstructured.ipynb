{
 "cells": [
  {
   "cell_type": "markdown",
   "metadata": {},
   "source": [
    "# Visualizing ASPECT unstructured mesh output with *yt*\n",
    "\n",
    "In this notebook, we present initial work towards visualizing standard output from the geodynamic code ASPECT in *yt*. \n",
    "\n",
    "We demonstrate two methods of loading data first using a simple dataset:"
   ]
  },
  {
   "cell_type": "markdown",
   "metadata": {},
   "source": [
    "1. [Manual Loading](#Manual-Loading)\n",
    "2. [Loading with yt's new ASPECT frontend](#Loading-with-yt's-new-ASPECT-frontend)\n",
    "\n",
    "The first method uses the standard *yt* release, but requires manually loading mesh and field data from `.vtu` files into memory. The second method is more experimental and uses an early draft of a *yt*-native frontend for standard ASPECT output available on the `aspect` branch of the *yt* fork [here](https://github.com/chrishavlin/yt).\n",
    "\n",
    "After that, we show visualizations from a more complex simulation: \n",
    "\n",
    "3. [Visualizing fault formation in the lithosphere](#Visualizing-fault-formation-in-the-lithosphere)\n",
    "\n",
    "## Manual Loading\n",
    "\n",
    "In order to manually load data, we'll need the standard [*yt* release](https://yt-project.org/#getyt) along with [xmltodict](https://pypi.org/project/xmltodict/) and [meshio](https://pypi.org/project/meshio/). \n",
    "\n",
    "### pvtu data\n",
    "\n",
    "The standard ASPECT vtk output is comprised of unstructured mesh data stored in `.pvtu` files: each `.pvtu` file is a timestep from the ASPECT simulation and each `.pvtu` records the `.vtu` files storing the actual data (when running in parallel, each process will output a `.vtu` file). So in order to load this data into yt manually, we need to parse our `pvtu` files to assemble `connectivity`, `coordinates`and `node_data` arrays and supply them to `load_unstructured_mesh` function: \n",
    "\n",
    "```python\n",
    "import yt \n",
    "ds = yt.load_unstructured_mesh(\n",
    "    connectivity,\n",
    "    coordinates,\n",
    "    node_data = node_data\n",
    ")\n",
    "```\n",
    "\n",
    "The following code creates a class to parse a `.pvtu` file and accompanying `.vtu` files using a combination of [xmltodict](https://pypi.org/project/xmltodict/) and [meshio](https://pypi.org/project/meshio/). After instantiating, `pvuFile.load()` will load each `.vtu` file into memory as a separate mesh to give to `load_unstructured_mesh`:"
   ]
  },
  {
   "cell_type": "code",
   "execution_count": 1,
   "metadata": {},
   "outputs": [],
   "source": [
    "import os \n",
    "import numpy as np\n",
    "import xmltodict, meshio\n",
    "\n",
    "class pvuFile(object):\n",
    "    def __init__(self,file,**kwargs):\n",
    "        self.file=file \n",
    "        self.dataDir=kwargs.get('dataDir',os.path.split(file)[0])\n",
    "        with open(file) as data:\n",
    "            self.pXML = xmltodict.parse(data.read())\n",
    "            \n",
    "        # store fields for convenience \n",
    "        self.fields=self.pXML['VTKFile']['PUnstructuredGrid']['PPointData']['PDataArray']     \n",
    "        \n",
    "        self.connectivity = None\n",
    "        self.coordinates = None\n",
    "        self.node_data = None\n",
    "            \n",
    "    def load(self):                      \n",
    "    \n",
    "        conlist=[]  # list of 2D connectivity arrays \n",
    "        coordlist=[] # global, concatenated coordinate array \n",
    "        nodeDictList=[] # list of node_data dicts, same length as conlist \n",
    "\n",
    "        con_offset=-1\n",
    "        pieces = self.pXML['VTKFile']['PUnstructuredGrid']['Piece']\n",
    "        if not isinstance(pieces,list):\n",
    "            pieces = [pieces]\n",
    "            \n",
    "        for mesh_id,src in enumerate(pieces):    \n",
    "            mesh_name=\"connect{meshnum}\".format(meshnum=mesh_id+1) # connect1, connect2, etc.  \n",
    "            \n",
    "            srcFi=os.path.join(self.dataDir,src['@Source']) # full path to .vtu file \n",
    "            \n",
    "            [con,coord,node_d]=self.loadPiece(srcFi,mesh_name,con_offset+1)                        \n",
    "            con_offset=con.max() \n",
    "            \n",
    "            conlist.append(con.astype(\"i8\"))\n",
    "            coordlist.extend(coord.astype(\"f8\"))\n",
    "            nodeDictList.append(node_d)\n",
    "            \n",
    "        self.connectivity=conlist\n",
    "        self.coordinates=np.array(coordlist)\n",
    "        self.node_data=nodeDictList\n",
    "            \n",
    "    def loadPiece(self,srcFi,mesh_name,connectivity_offset=0): \n",
    "        meshPiece=meshio.read(srcFi) # read it in with meshio     \n",
    "        coords=meshPiece.points # coords and node_data are already global\n",
    "        cell_type = list(meshPiece.cells_dict.keys())[0]\n",
    "        \n",
    "        connectivity=meshPiece.cells_dict[cell_type] # 2D connectivity array \n",
    "\n",
    "        # parse node data \n",
    "        node_data=self.parseNodeData(meshPiece.point_data,connectivity,mesh_name)\n",
    "\n",
    "        # offset the connectivity matrix to global value \n",
    "        connectivity=np.array(connectivity)+connectivity_offset\n",
    "\n",
    "        return [connectivity,coords,node_data]\n",
    "    \n",
    "    def parseNodeData(self,point_data,connectivity,mesh_name):\n",
    "        \n",
    "        # for each field, evaluate field data by index, reshape to match connectivity \n",
    "        con1d=connectivity.ravel() \n",
    "        conn_shp=connectivity.shape \n",
    "        \n",
    "        comp_hash={0:'cx',1:'cy',2:'cz'}\n",
    "        def rshpData(data1d):\n",
    "            return np.reshape(data1d[con1d],conn_shp)\n",
    "            \n",
    "        node_data={}        \n",
    "        for fld in self.fields: \n",
    "            nm=fld['@Name']\n",
    "            if nm in point_data.keys():\n",
    "                if '@NumberOfComponents' in fld.keys() and int(fld['@NumberOfComponents'])>1:\n",
    "                    # we have a vector, deal with components\n",
    "                    for component in range(int(fld['@NumberOfComponents'])): \n",
    "                        comp_name=nm+'_'+comp_hash[component] # e.g., velocity_cx \n",
    "                        m_F=(mesh_name,comp_name) # e.g., ('connect1','velocity_cx')\n",
    "                        node_data[m_F]=rshpData(point_data[nm][:,component])\n",
    "                else:\n",
    "                    # just a scalar! \n",
    "                    m_F=(mesh_name,nm) # e.g., ('connect1','T')\n",
    "                    node_data[m_F]=rshpData(point_data[nm])\n",
    "    \n",
    "        return node_data"
   ]
  },
  {
   "cell_type": "markdown",
   "metadata": {},
   "source": [
    "Now lets set a `.pvtu` solution path then instantiate and load our `pvuFile`:"
   ]
  },
  {
   "cell_type": "code",
   "execution_count": 2,
   "metadata": {},
   "outputs": [],
   "source": [
    "DataDir=os.path.join(os.environ.get('ASPECTdatadir','./'),'output_yt_vtu','solution')\n",
    "pFile=os.path.join(DataDir,'solution-00000.pvtu')\n",
    "if os.path.isfile(pFile) is False:\n",
    "    print(\"data file not found\")\n",
    "    \n",
    "pvuData=pvuFile(pFile)\n",
    "pvuData.load()  "
   ]
  },
  {
   "cell_type": "markdown",
   "metadata": {},
   "source": [
    "And now let's actually create a *yt* dataset:"
   ]
  },
  {
   "cell_type": "code",
   "execution_count": 3,
   "metadata": {},
   "outputs": [
    {
     "name": "stderr",
     "output_type": "stream",
     "text": [
      "yt : [INFO     ] 2020-11-18 15:06:17,043 Parameters: current_time              = 0.0\n",
      "yt : [INFO     ] 2020-11-18 15:06:17,043 Parameters: domain_dimensions         = [2 2 2]\n",
      "yt : [INFO     ] 2020-11-18 15:06:17,044 Parameters: domain_left_edge          = [0. 0. 0.]\n",
      "yt : [INFO     ] 2020-11-18 15:06:17,044 Parameters: domain_right_edge         = [110000. 110000. 110000.]\n",
      "yt : [INFO     ] 2020-11-18 15:06:17,045 Parameters: cosmological_simulation   = 0.0\n"
     ]
    }
   ],
   "source": [
    "import yt \n",
    "ds = yt.load_unstructured_mesh(\n",
    "    pvuData.connectivity,\n",
    "    pvuData.coordinates,\n",
    "    node_data = pvuData.node_data,\n",
    "    unit_system=\"mks\"\n",
    ")"
   ]
  },
  {
   "cell_type": "markdown",
   "metadata": {},
   "source": [
    "Now that we have our data loaded as a *yt* dataset, we can do some fun things. First, let's check what fields we have:"
   ]
  },
  {
   "cell_type": "code",
   "execution_count": 4,
   "metadata": {},
   "outputs": [
    {
     "data": {
      "text/plain": [
       "[('all', 'T'),\n",
       " ('all', 'crust_lower'),\n",
       " ('all', 'crust_upper'),\n",
       " ('all', 'current_cohesions'),\n",
       " ('all', 'current_friction_angles'),\n",
       " ('all', 'density'),\n",
       " ('all', 'noninitial_plastic_strain'),\n",
       " ('all', 'p'),\n",
       " ('all', 'plastic_strain'),\n",
       " ('all', 'plastic_yielding'),\n",
       " ('all', 'strain_rate'),\n",
       " ('all', 'velocity_cx'),\n",
       " ('all', 'velocity_cy'),\n",
       " ('all', 'velocity_cz'),\n",
       " ('all', 'viscosity'),\n",
       " ('connect1', 'T'),\n",
       " ('connect1', 'crust_lower'),\n",
       " ('connect1', 'crust_upper'),\n",
       " ('connect1', 'current_cohesions'),\n",
       " ('connect1', 'current_friction_angles'),\n",
       " ('connect1', 'density'),\n",
       " ('connect1', 'noninitial_plastic_strain'),\n",
       " ('connect1', 'p'),\n",
       " ('connect1', 'plastic_strain'),\n",
       " ('connect1', 'plastic_yielding'),\n",
       " ('connect1', 'strain_rate'),\n",
       " ('connect1', 'velocity_cx'),\n",
       " ('connect1', 'velocity_cy'),\n",
       " ('connect1', 'velocity_cz'),\n",
       " ('connect1', 'viscosity')]"
      ]
     },
     "execution_count": 4,
     "metadata": {},
     "output_type": "execute_result"
    }
   ],
   "source": [
    "ds.field_list"
   ]
  },
  {
   "cell_type": "markdown",
   "metadata": {},
   "source": [
    "as an example of some simple functionality, we can find the min and max values of the whole domain by creating a YTRegion covering the whole domain and selecting the extrema:"
   ]
  },
  {
   "cell_type": "code",
   "execution_count": 5,
   "metadata": {},
   "outputs": [],
   "source": [
    "ad = ds.all_data()"
   ]
  },
  {
   "cell_type": "code",
   "execution_count": 6,
   "metadata": {},
   "outputs": [
    {
     "data": {
      "text/plain": [
       "unyt_array([ 273., 1613.], '(dimensionless)')"
      ]
     },
     "execution_count": 6,
     "metadata": {},
     "output_type": "execute_result"
    }
   ],
   "source": [
    "ad.quantities.extrema(('all','T'))"
   ]
  },
  {
   "cell_type": "markdown",
   "metadata": {},
   "source": [
    "creating slice plots is similarlly easy: "
   ]
  },
  {
   "cell_type": "code",
   "execution_count": 7,
   "metadata": {},
   "outputs": [
    {
     "name": "stderr",
     "output_type": "stream",
     "text": [
      "yt : [INFO     ] 2020-11-18 15:06:17,190 xlim = 0.000000 110000.000000\n",
      "yt : [INFO     ] 2020-11-18 15:06:17,190 ylim = 0.000000 110000.000000\n",
      "yt : [INFO     ] 2020-11-18 15:06:17,191 xlim = 0.000000 110000.000000\n",
      "yt : [INFO     ] 2020-11-18 15:06:17,191 ylim = 0.000000 110000.000000\n",
      "yt : [INFO     ] 2020-11-18 15:06:17,192 Making a fixed resolution buffer of (('all', 'T')) 800 by 800\n"
     ]
    },
    {
     "data": {
      "text/html": [
       "<img style=\"max-width:100%%;max-height:100%%;\" src=\"data:image/png;base64,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\"><br>"
      ],
      "text/plain": [
       "<yt.visualization.plot_window.AxisAlignedSlicePlot at 0x7fc1c3a1d850>"
      ]
     },
     "execution_count": 7,
     "metadata": {},
     "output_type": "execute_result"
    }
   ],
   "source": [
    "slc = yt.SlicePlot(ds,'x',('all','T'))\n",
    "slc.set_cmap(('all','T'),'hot_r')\n",
    "slc.set_log('T',False)"
   ]
  },
  {
   "cell_type": "markdown",
   "metadata": {},
   "source": [
    "Note that the axis units are off here -- rather than fixing it, let's move on to using the experimental ASPECT front end. "
   ]
  },
  {
   "cell_type": "markdown",
   "metadata": {},
   "source": [
    "## Loading with yt's new ASPECT frontend\n",
    "\n",
    "An initial draft frontend for ASPECT data is available on the `aspect` branch of the *yt* fork at: https://github.com/chrishavlin/yt. Until a PR is submitted and the `aspect` branch makes its way into the main yt repository, you can clone the fork, checkout the `aspect` branch and install from source with `pip install .` At present, you also have to manually install the meshio and xmltodict packages as for the section on [Manual Loading](#Manual-Loading). \n",
    "\n",
    "Once installed, we can load the data using the usual yt method:"
   ]
  },
  {
   "cell_type": "code",
   "execution_count": 8,
   "metadata": {},
   "outputs": [
    {
     "name": "stderr",
     "output_type": "stream",
     "text": [
      "yt : [INFO     ] 2020-11-18 15:06:17,783 detected cell type is hexahedron.\n",
      "yt : [INFO     ] 2020-11-18 15:06:17,843 Parameters: current_time              = 0.0\n",
      "yt : [INFO     ] 2020-11-18 15:06:17,843 Parameters: domain_dimensions         = [1 1 1]\n",
      "yt : [INFO     ] 2020-11-18 15:06:17,843 Parameters: domain_left_edge          = [0. 0. 0.]\n",
      "yt : [INFO     ] 2020-11-18 15:06:17,844 Parameters: domain_right_edge         = [100000. 100000. 100000.]\n",
      "yt : [INFO     ] 2020-11-18 15:06:17,844 Parameters: cosmological_simulation   = 0\n",
      "yt : [INFO     ] 2020-11-18 15:06:17,868 detected cell type is hexahedron.\n"
     ]
    }
   ],
   "source": [
    "import yt\n",
    "ds = yt.load(pFile)"
   ]
  },
  {
   "cell_type": "code",
   "execution_count": 9,
   "metadata": {},
   "outputs": [
    {
     "name": "stderr",
     "output_type": "stream",
     "text": [
      "yt : [INFO     ] 2020-11-18 15:06:18,026 xlim = 0.000000 100000.000000\n",
      "yt : [INFO     ] 2020-11-18 15:06:18,026 ylim = 0.000000 100000.000000\n",
      "yt : [INFO     ] 2020-11-18 15:06:18,027 xlim = 0.000000 100000.000000\n",
      "yt : [INFO     ] 2020-11-18 15:06:18,027 ylim = 0.000000 100000.000000\n",
      "yt : [INFO     ] 2020-11-18 15:06:18,028 Making a fixed resolution buffer of (('all', 'T')) 800 by 800\n"
     ]
    },
    {
     "data": {
      "text/html": [
       "<img style=\"max-width:100%%;max-height:100%%;\" src=\"data:image/png;base64,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\"><br>"
      ],
      "text/plain": [
       "<yt.visualization.plot_window.AxisAlignedSlicePlot at 0x7fc1c1139510>"
      ]
     },
     "metadata": {},
     "output_type": "display_data"
    }
   ],
   "source": [
    "slc = yt.SlicePlot(ds,'x',('all','T'))\n",
    "slc.set_cmap(('all','T'),'hot_r')\n",
    "slc.show()"
   ]
  },
  {
   "cell_type": "code",
   "execution_count": 10,
   "metadata": {},
   "outputs": [
    {
     "name": "stderr",
     "output_type": "stream",
     "text": [
      "yt : [INFO     ] 2020-11-18 15:06:18,424 Saving plot figures/aspect_T_slice.png\n"
     ]
    },
    {
     "data": {
      "text/plain": [
       "['figures/aspect_T_slice.png']"
      ]
     },
     "execution_count": 10,
     "metadata": {},
     "output_type": "execute_result"
    }
   ],
   "source": [
    "slc.save('figures/aspect_T_slice.png')"
   ]
  },
  {
   "cell_type": "code",
   "execution_count": 11,
   "metadata": {},
   "outputs": [
    {
     "name": "stderr",
     "output_type": "stream",
     "text": [
      "yt : [INFO     ] 2020-11-18 15:06:18,587 xlim = 0.000000 100000.000000\n",
      "yt : [INFO     ] 2020-11-18 15:06:18,587 ylim = 0.000000 100000.000000\n",
      "yt : [INFO     ] 2020-11-18 15:06:18,588 xlim = 0.000000 100000.000000\n",
      "yt : [INFO     ] 2020-11-18 15:06:18,589 ylim = 0.000000 100000.000000\n",
      "yt : [INFO     ] 2020-11-18 15:06:18,590 Making a fixed resolution buffer of (('all', 'strain_rate')) 800 by 800\n"
     ]
    },
    {
     "data": {
      "text/html": [
       "<img style=\"max-width:100%%;max-height:100%%;\" src=\"data:image/png;base64,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\"><br>"
      ],
      "text/plain": [
       "<yt.visualization.plot_window.AxisAlignedSlicePlot at 0x7fc1c0e11ed0>"
      ]
     },
     "metadata": {},
     "output_type": "display_data"
    }
   ],
   "source": [
    "slc = yt.SlicePlot(ds,'x',('all','strain_rate'))\n",
    "slc.set_log('strain_rate',True)\n",
    "slc.set_cmap(('all','strain_rate'),'kelp')\n",
    "slc.show()"
   ]
  },
  {
   "cell_type": "markdown",
   "metadata": {},
   "source": [
    "As of now, the field data is not assigned units, so the color axes in these plots are unitless, but we can see we now have the expected units for the axes. \n"
   ]
  },
  {
   "cell_type": "code",
   "execution_count": 12,
   "metadata": {},
   "outputs": [
    {
     "name": "stderr",
     "output_type": "stream",
     "text": [
      "yt : [INFO     ] 2020-11-18 15:06:19,095 Saving plot figures/aspect_sr_slice.png\n"
     ]
    },
    {
     "data": {
      "text/plain": [
       "['figures/aspect_sr_slice.png']"
      ]
     },
     "execution_count": 12,
     "metadata": {},
     "output_type": "execute_result"
    }
   ],
   "source": [
    "slc.save('figures/aspect_sr_slice.png')"
   ]
  },
  {
   "cell_type": "markdown",
   "metadata": {},
   "source": [
    "## A note on higher order elements\n",
    "\n",
    "ASPECT can output higher order hexahedral elements but at present, *yt* only supports plotting first order elements. We could truncate the hexahedral elements to the first 8 nodes (the \"corner\" vertices for a linear element) before loading, but we can actually let *yt* do that automatically. Since we're using `meshio` on the back end for parsing the vtu files, however, we'll need a a modified version of meshio as the current vtu support does not include parsing the higher order elements. At present, installing the `vtu72` branch of the meshio fork at `https://github.com/chrishavlin/meshio` will allow *yt* to load the higher order data (though it will not be used in plotting). \n"
   ]
  },
  {
   "cell_type": "markdown",
   "metadata": {},
   "source": [
    "## Visualizing fault formation in the lithosphere\n",
    "\n",
    "The above examples are simple illustrations of loading and slicing ASPECT data with *yt*, but we can also load more complex ASPECT runs that were run in parallel. Here, we demsonstrate loading a complex simulation investigating fault formation in the lithosphere. \n",
    "\n",
    "(notebook to be updated by Dec 1 -- check back then!)"
   ]
  },
  {
   "cell_type": "code",
   "execution_count": null,
   "metadata": {},
   "outputs": [],
   "source": []
  },
  {
   "cell_type": "code",
   "execution_count": null,
   "metadata": {},
   "outputs": [],
   "source": []
  }
 ],
 "metadata": {
  "kernelspec": {
   "display_name": "Python 3",
   "language": "python",
   "name": "python3"
  },
  "language_info": {
   "codemirror_mode": {
    "name": "ipython",
    "version": 3
   },
   "file_extension": ".py",
   "mimetype": "text/x-python",
   "name": "python",
   "nbconvert_exporter": "python",
   "pygments_lexer": "ipython3",
   "version": "3.7.8"
  }
 },
 "nbformat": 4,
 "nbformat_minor": 4
}
