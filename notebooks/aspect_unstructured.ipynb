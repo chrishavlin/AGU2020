{
 "cells": [
  {
   "cell_type": "markdown",
   "metadata": {},
   "source": [
    "# Visualizing ASPECT unstructured mesh output with *yt*\n",
    "\n",
    "In this notebook, we present initial work towards visualizing standard output from the geodynamic code ASPECT in *yt*. \n",
    "\n",
    "We demonstrate two methods of loading data first using a simple dataset:"
   ]
  },
  {
   "cell_type": "markdown",
   "metadata": {},
   "source": [
    "1. [Manual Loading](#Manual-Loading)\n",
    "2. [Loading with yt's new ASPECT frontend](#Loading-with-yt's-new-ASPECT-frontend)\n",
    "\n",
    "The first method uses the standard *yt* release, but requires manually loading mesh and field data from `.vtu` files into memory. The second method is more experimental and uses an early draft of a *yt*-native frontend for standard ASPECT output available on the `aspect` branch of the *yt* fork [here](https://github.com/chrishavlin/yt).\n",
    "\n",
    "After that, we show visualizations from a more complex simulation: \n",
    "\n",
    "3. [Visualizing fault formation in the lithosphere](#Visualizing-fault-formation-in-the-lithosphere)\n",
    "\n",
    "## Manual Loading\n",
    "\n",
    "In order to manually load data, we'll need the standard [*yt* release](https://yt-project.org/#getyt) along with [xmltodict](https://pypi.org/project/xmltodict/) and [meshio](https://pypi.org/project/meshio/). \n",
    "\n",
    "### pvtu data\n",
    "\n",
    "The standard ASPECT vtk output is comprised of unstructured mesh data stored in `.pvtu` files: each `.pvtu` file is a timestep from the ASPECT simulation and each `.pvtu` records the `.vtu` files storing the actual data (when running in parallel, each process will output a `.vtu` file). So in order to load this data into yt manually, we need to parse our `pvtu` files to assemble `connectivity`, `coordinates`and `node_data` arrays and supply them to `load_unstructured_mesh` function: \n",
    "\n",
    "```python\n",
    "import yt \n",
    "ds = yt.load_unstructured_mesh(\n",
    "    connectivity,\n",
    "    coordinates,\n",
    "    node_data = node_data\n",
    ")\n",
    "```\n",
    "\n",
    "The following code creates a class to parse a `.pvtu` file and accompanying `.vtu` files using a combination of [xmltodict](https://pypi.org/project/xmltodict/) and [meshio](https://pypi.org/project/meshio/). After instantiating, `pvuFile.load()` will load each `.vtu` file into memory as a separate mesh to give to `load_unstructured_mesh`:"
   ]
  },
  {
   "cell_type": "code",
   "execution_count": 1,
   "metadata": {},
   "outputs": [],
   "source": [
    "import os \n",
    "import numpy as np\n",
    "import xmltodict, meshio\n",
    "\n",
    "class pvuFile(object):\n",
    "    def __init__(self,file,**kwargs):\n",
    "        self.file=file \n",
    "        self.dataDir=kwargs.get('dataDir',os.path.split(file)[0])\n",
    "        with open(file) as data:\n",
    "            self.pXML = xmltodict.parse(data.read())\n",
    "            \n",
    "        # store fields for convenience \n",
    "        self.fields=self.pXML['VTKFile']['PUnstructuredGrid']['PPointData']['PDataArray']     \n",
    "        \n",
    "        self.connectivity = None\n",
    "        self.coordinates = None\n",
    "        self.node_data = None\n",
    "            \n",
    "    def load(self):                      \n",
    "    \n",
    "        conlist=[]  # list of 2D connectivity arrays \n",
    "        coordlist=[] # global, concatenated coordinate array \n",
    "        nodeDictList=[] # list of node_data dicts, same length as conlist \n",
    "\n",
    "        con_offset=-1\n",
    "        pieces = self.pXML['VTKFile']['PUnstructuredGrid']['Piece']\n",
    "        if not isinstance(pieces,list):\n",
    "            pieces = [pieces]\n",
    "            \n",
    "        for mesh_id,src in enumerate(pieces):    \n",
    "            mesh_name=\"connect{meshnum}\".format(meshnum=mesh_id+1) # connect1, connect2, etc.  \n",
    "            \n",
    "            srcFi=os.path.join(self.dataDir,src['@Source']) # full path to .vtu file \n",
    "            \n",
    "            [con,coord,node_d]=self.loadPiece(srcFi,mesh_name,con_offset+1)                        \n",
    "            con_offset=con.max() \n",
    "            \n",
    "            conlist.append(con.astype(\"i8\"))\n",
    "            coordlist.extend(coord.astype(\"f8\"))\n",
    "            nodeDictList.append(node_d)\n",
    "            \n",
    "        self.connectivity=conlist\n",
    "        self.coordinates=np.array(coordlist)\n",
    "        self.node_data=nodeDictList\n",
    "            \n",
    "    def loadPiece(self,srcFi,mesh_name,connectivity_offset=0): \n",
    "        meshPiece=meshio.read(srcFi) # read it in with meshio     \n",
    "        coords=meshPiece.points # coords and node_data are already global\n",
    "        cell_type = list(meshPiece.cells_dict.keys())[0]\n",
    "        \n",
    "        connectivity=meshPiece.cells_dict[cell_type] # 2D connectivity array \n",
    "\n",
    "        # parse node data \n",
    "        node_data=self.parseNodeData(meshPiece.point_data,connectivity,mesh_name)\n",
    "\n",
    "        # offset the connectivity matrix to global value \n",
    "        connectivity=np.array(connectivity)+connectivity_offset\n",
    "\n",
    "        return [connectivity,coords,node_data]\n",
    "    \n",
    "    def parseNodeData(self,point_data,connectivity,mesh_name):\n",
    "        \n",
    "        # for each field, evaluate field data by index, reshape to match connectivity \n",
    "        con1d=connectivity.ravel() \n",
    "        conn_shp=connectivity.shape \n",
    "        \n",
    "        comp_hash={0:'cx',1:'cy',2:'cz'}\n",
    "        def rshpData(data1d):\n",
    "            return np.reshape(data1d[con1d],conn_shp)\n",
    "            \n",
    "        node_data={}        \n",
    "        for fld in self.fields: \n",
    "            nm=fld['@Name']\n",
    "            if nm in point_data.keys():\n",
    "                if '@NumberOfComponents' in fld.keys() and int(fld['@NumberOfComponents'])>1:\n",
    "                    # we have a vector, deal with components\n",
    "                    for component in range(int(fld['@NumberOfComponents'])): \n",
    "                        comp_name=nm+'_'+comp_hash[component] # e.g., velocity_cx \n",
    "                        m_F=(mesh_name,comp_name) # e.g., ('connect1','velocity_cx')\n",
    "                        node_data[m_F]=rshpData(point_data[nm][:,component])\n",
    "                else:\n",
    "                    # just a scalar! \n",
    "                    m_F=(mesh_name,nm) # e.g., ('connect1','T')\n",
    "                    node_data[m_F]=rshpData(point_data[nm])\n",
    "    \n",
    "        return node_data"
   ]
  },
  {
   "cell_type": "markdown",
   "metadata": {},
   "source": [
    "Now lets set a `.pvtu` solution path then instantiate and load our `pvuFile`:"
   ]
  },
  {
   "cell_type": "code",
   "execution_count": 2,
   "metadata": {},
   "outputs": [],
   "source": [
    "DataDir=os.path.join(os.environ.get('ASPECTdatadir','./'),'output_yt_vtu','solution')\n",
    "pFile=os.path.join(DataDir,'solution-00000.pvtu')\n",
    "if os.path.isfile(pFile) is False:\n",
    "    print(\"data file not found\")\n",
    "    \n",
    "pvuData=pvuFile(pFile)\n",
    "pvuData.load()  "
   ]
  },
  {
   "cell_type": "markdown",
   "metadata": {},
   "source": [
    "And now let's actually create a *yt* dataset:"
   ]
  },
  {
   "cell_type": "code",
   "execution_count": 3,
   "metadata": {},
   "outputs": [
    {
     "name": "stderr",
     "output_type": "stream",
     "text": [
      "yt : [INFO     ] 2020-11-18 14:54:38,257 Parameters: current_time              = 0.0\n",
      "yt : [INFO     ] 2020-11-18 14:54:38,257 Parameters: domain_dimensions         = [2 2 2]\n",
      "yt : [INFO     ] 2020-11-18 14:54:38,258 Parameters: domain_left_edge          = [0. 0. 0.]\n",
      "yt : [INFO     ] 2020-11-18 14:54:38,258 Parameters: domain_right_edge         = [110000. 110000. 110000.]\n",
      "yt : [INFO     ] 2020-11-18 14:54:38,259 Parameters: cosmological_simulation   = 0.0\n"
     ]
    }
   ],
   "source": [
    "import yt \n",
    "ds = yt.load_unstructured_mesh(\n",
    "    pvuData.connectivity,\n",
    "    pvuData.coordinates,\n",
    "    node_data = pvuData.node_data,\n",
    "    unit_system=\"mks\"\n",
    ")"
   ]
  },
  {
   "cell_type": "markdown",
   "metadata": {},
   "source": [
    "Now that we have our data loaded as a *yt* dataset, we can do some fun things. First, let's check what fields we have:"
   ]
  },
  {
   "cell_type": "code",
   "execution_count": 4,
   "metadata": {},
   "outputs": [
    {
     "data": {
      "text/plain": [
       "[('all', 'T'),\n",
       " ('all', 'crust_lower'),\n",
       " ('all', 'crust_upper'),\n",
       " ('all', 'current_cohesions'),\n",
       " ('all', 'current_friction_angles'),\n",
       " ('all', 'density'),\n",
       " ('all', 'noninitial_plastic_strain'),\n",
       " ('all', 'p'),\n",
       " ('all', 'plastic_strain'),\n",
       " ('all', 'plastic_yielding'),\n",
       " ('all', 'strain_rate'),\n",
       " ('all', 'velocity_cx'),\n",
       " ('all', 'velocity_cy'),\n",
       " ('all', 'velocity_cz'),\n",
       " ('all', 'viscosity'),\n",
       " ('connect1', 'T'),\n",
       " ('connect1', 'crust_lower'),\n",
       " ('connect1', 'crust_upper'),\n",
       " ('connect1', 'current_cohesions'),\n",
       " ('connect1', 'current_friction_angles'),\n",
       " ('connect1', 'density'),\n",
       " ('connect1', 'noninitial_plastic_strain'),\n",
       " ('connect1', 'p'),\n",
       " ('connect1', 'plastic_strain'),\n",
       " ('connect1', 'plastic_yielding'),\n",
       " ('connect1', 'strain_rate'),\n",
       " ('connect1', 'velocity_cx'),\n",
       " ('connect1', 'velocity_cy'),\n",
       " ('connect1', 'velocity_cz'),\n",
       " ('connect1', 'viscosity')]"
      ]
     },
     "execution_count": 4,
     "metadata": {},
     "output_type": "execute_result"
    }
   ],
   "source": [
    "ds.field_list"
   ]
  },
  {
   "cell_type": "markdown",
   "metadata": {},
   "source": [
    "as an example of some simple functionality, we can find the min and max values of the whole domain by creating a YTRegion covering the whole domain and selecting the extrema:"
   ]
  },
  {
   "cell_type": "code",
   "execution_count": 5,
   "metadata": {},
   "outputs": [],
   "source": [
    "ad = ds.all_data()"
   ]
  },
  {
   "cell_type": "code",
   "execution_count": 6,
   "metadata": {},
   "outputs": [
    {
     "data": {
      "text/plain": [
       "unyt_array([ 273., 1613.], '(dimensionless)')"
      ]
     },
     "execution_count": 6,
     "metadata": {},
     "output_type": "execute_result"
    }
   ],
   "source": [
    "ad.quantities.extrema(('all','T'))"
   ]
  },
  {
   "cell_type": "markdown",
   "metadata": {},
   "source": [
    "creating slice plots is similarlly easy: "
   ]
  },
  {
   "cell_type": "code",
   "execution_count": 7,
   "metadata": {},
   "outputs": [
    {
     "name": "stderr",
     "output_type": "stream",
     "text": [
      "yt : [INFO     ] 2020-11-18 14:54:38,405 xlim = 0.000000 110000.000000\n",
      "yt : [INFO     ] 2020-11-18 14:54:38,405 ylim = 0.000000 110000.000000\n",
      "yt : [INFO     ] 2020-11-18 14:54:38,405 xlim = 0.000000 110000.000000\n",
      "yt : [INFO     ] 2020-11-18 14:54:38,406 ylim = 0.000000 110000.000000\n",
      "yt : [INFO     ] 2020-11-18 14:54:38,407 Making a fixed resolution buffer of (('all', 'T')) 800 by 800\n"
     ]
    },
    {
     "data": {
      "text/html": [
       "<img style=\"max-width:100%%;max-height:100%%;\" src=\"data:image/png;base64,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\"><br>"
      ],
      "text/plain": [
       "<yt.visualization.plot_window.AxisAlignedSlicePlot at 0x7f78a7860dd0>"
      ]
     },
     "execution_count": 7,
     "metadata": {},
     "output_type": "execute_result"
    }
   ],
   "source": [
    "slc = yt.SlicePlot(ds,'x',('all','T'))\n",
    "slc.set_log('T',False)"
   ]
  },
  {
   "cell_type": "markdown",
   "metadata": {},
   "source": [
    "Note that the axis units are off here -- rather than fixing it, let's move on to using the experimental ASPECT front end. "
   ]
  },
  {
   "cell_type": "markdown",
   "metadata": {},
   "source": [
    "## Loading with yt's new ASPECT frontend\n",
    "\n",
    "An initial draft frontend for ASPECT data is available on the `aspect` branch of the *yt* fork at: https://github.com/chrishavlin/yt. Until a PR is submitted and the `aspect` branch makes its way into the main yt repository, you can clone the fork, checkout the `aspect` branch and install from source with `pip install .` At present, you also have to manually install the meshio and xmltodict packages as for the section on [Manual Loading](#Manual-Loading). \n",
    "\n",
    "Once installed, we can load the data using the usual yt method:"
   ]
  },
  {
   "cell_type": "code",
   "execution_count": 8,
   "metadata": {},
   "outputs": [
    {
     "name": "stderr",
     "output_type": "stream",
     "text": [
      "yt : [INFO     ] 2020-11-18 14:54:38,965 detected cell type is hexahedron.\n",
      "yt : [INFO     ] 2020-11-18 14:54:39,026 Parameters: current_time              = 0.0\n",
      "yt : [INFO     ] 2020-11-18 14:54:39,026 Parameters: domain_dimensions         = [1 1 1]\n",
      "yt : [INFO     ] 2020-11-18 14:54:39,027 Parameters: domain_left_edge          = [0. 0. 0.]\n",
      "yt : [INFO     ] 2020-11-18 14:54:39,027 Parameters: domain_right_edge         = [100000. 100000. 100000.]\n",
      "yt : [INFO     ] 2020-11-18 14:54:39,027 Parameters: cosmological_simulation   = 0\n",
      "yt : [INFO     ] 2020-11-18 14:54:39,051 detected cell type is hexahedron.\n"
     ]
    }
   ],
   "source": [
    "import yt\n",
    "ds = yt.load(pFile)"
   ]
  },
  {
   "cell_type": "code",
   "execution_count": 9,
   "metadata": {},
   "outputs": [
    {
     "name": "stderr",
     "output_type": "stream",
     "text": [
      "yt : [INFO     ] 2020-11-18 14:54:39,209 xlim = 0.000000 100000.000000\n",
      "yt : [INFO     ] 2020-11-18 14:54:39,209 ylim = 0.000000 100000.000000\n",
      "yt : [INFO     ] 2020-11-18 14:54:39,210 xlim = 0.000000 100000.000000\n",
      "yt : [INFO     ] 2020-11-18 14:54:39,210 ylim = 0.000000 100000.000000\n",
      "yt : [INFO     ] 2020-11-18 14:54:39,211 Making a fixed resolution buffer of (('all', 'T')) 800 by 800\n"
     ]
    },
    {
     "data": {
      "text/html": [
       "<img style=\"max-width:100%%;max-height:100%%;\" src=\"data:image/png;base64,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\"><br>"
      ],
      "text/plain": [
       "<yt.visualization.plot_window.AxisAlignedSlicePlot at 0x7f78a4f57650>"
      ]
     },
     "metadata": {},
     "output_type": "display_data"
    }
   ],
   "source": [
    "slc = yt.SlicePlot(ds,'x',('all','T'))\n",
    "slc.show()"
   ]
  },
  {
   "cell_type": "code",
   "execution_count": 10,
   "metadata": {},
   "outputs": [
    {
     "name": "stderr",
     "output_type": "stream",
     "text": [
      "yt : [INFO     ] 2020-11-18 14:54:39,608 Saving plot figures/aspect_T_slice.png\n"
     ]
    },
    {
     "data": {
      "text/plain": [
       "['figures/aspect_T_slice.png']"
      ]
     },
     "execution_count": 10,
     "metadata": {},
     "output_type": "execute_result"
    }
   ],
   "source": [
    "slc.save('figures/aspect_T_slice.png')"
   ]
  },
  {
   "cell_type": "code",
   "execution_count": 11,
   "metadata": {},
   "outputs": [
    {
     "name": "stderr",
     "output_type": "stream",
     "text": [
      "yt : [INFO     ] 2020-11-18 14:54:39,773 xlim = 0.000000 100000.000000\n",
      "yt : [INFO     ] 2020-11-18 14:54:39,774 ylim = 0.000000 100000.000000\n",
      "yt : [INFO     ] 2020-11-18 14:54:39,774 xlim = 0.000000 100000.000000\n",
      "yt : [INFO     ] 2020-11-18 14:54:39,775 ylim = 0.000000 100000.000000\n",
      "yt : [INFO     ] 2020-11-18 14:54:39,775 Making a fixed resolution buffer of (('all', 'strain_rate')) 800 by 800\n"
     ]
    },
    {
     "data": {
      "text/html": [
       "<img style=\"max-width:100%%;max-height:100%%;\" src=\"data:image/png;base64,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\"><br>"
      ],
      "text/plain": [
       "<yt.visualization.plot_window.AxisAlignedSlicePlot at 0x7f78a4da8490>"
      ]
     },
     "metadata": {},
     "output_type": "display_data"
    }
   ],
   "source": [
    "slc = yt.SlicePlot(ds,'x',('all','strain_rate'))\n",
    "slc.set_log('strain_rate',True)\n",
    "slc.show()"
   ]
  },
  {
   "cell_type": "markdown",
   "metadata": {},
   "source": [
    "As of now, the field data is not assigned units, so the color axes in these plots are unitless, but we can see we now have the expected units for the axes. \n"
   ]
  },
  {
   "cell_type": "code",
   "execution_count": 12,
   "metadata": {},
   "outputs": [
    {
     "name": "stderr",
     "output_type": "stream",
     "text": [
      "yt : [INFO     ] 2020-11-18 14:54:40,232 Saving plot figures/aspect_sr_slice.png\n"
     ]
    },
    {
     "data": {
      "text/plain": [
       "['figures/aspect_sr_slice.png']"
      ]
     },
     "execution_count": 12,
     "metadata": {},
     "output_type": "execute_result"
    }
   ],
   "source": [
    "slc.save('figures/aspect_sr_slice.png')"
   ]
  },
  {
   "cell_type": "markdown",
   "metadata": {},
   "source": [
    "## A note on higher order elements\n",
    "\n",
    "ASPECT can output higher order hexahedral elements but at present, *yt* only supports plotting first order elements. We could truncate the hexahedral elements to the first 8 nodes (the \"corner\" vertices for a linear element) before loading, but we can actually let *yt* do that automatically. Since we're using `meshio` on the back end for parsing the vtu files, however, we'll need a a modified version of meshio as the current vtu support does not include parsing the higher order elements. At present, installing the `vtu72` branch of the meshio fork at `https://github.com/chrishavlin/meshio` will allow *yt* to load the higher order data (though it will not be used in plotting). \n"
   ]
  },
  {
   "cell_type": "markdown",
   "metadata": {},
   "source": [
    "## Visualizing fault formation in the lithosphere\n",
    "\n",
    "The above examples are simple illustrations of loading and slicing ASPECT data with *yt*, but we can also load more complex ASPECT runs that were run in parallel. Here, we demsonstrate loading a complex simulation investigating fault formation in the lithosphere. \n",
    "\n",
    "(notebook to be updated by Dec 1 -- check back then!)"
   ]
  },
  {
   "cell_type": "code",
   "execution_count": null,
   "metadata": {},
   "outputs": [],
   "source": []
  },
  {
   "cell_type": "code",
   "execution_count": null,
   "metadata": {},
   "outputs": [],
   "source": []
  }
 ],
 "metadata": {
  "kernelspec": {
   "display_name": "Python 3",
   "language": "python",
   "name": "python3"
  },
  "language_info": {
   "codemirror_mode": {
    "name": "ipython",
    "version": 3
   },
   "file_extension": ".py",
   "mimetype": "text/x-python",
   "name": "python",
   "nbconvert_exporter": "python",
   "pygments_lexer": "ipython3",
   "version": "3.7.8"
  }
 },
 "nbformat": 4,
 "nbformat_minor": 4
}
